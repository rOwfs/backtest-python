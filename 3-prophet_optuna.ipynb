{
  "cells": [
    {
      "cell_type": "markdown",
      "metadata": {},
      "source": [
        "## Prophet Forcasting"
      ]
    },
    {
      "cell_type": "markdown",
      "metadata": {},
      "source": [
        "In this notebook we will use Prohphet Library that provide completely automated forecast, and to tune the parameters of the prophet model we will use Optuna to automatize the tuninng of parameters.\n",
        "\n",
        "\n",
        "\n",
        "\n",
        "\n",
        "In other terms this notebook will be about using a library which will automate the forecasting"
      ]
    },
    {
      "cell_type": "code",
      "execution_count": 1,
      "metadata": {
        "id": "l_Z5j6SYXvZN"
      },
      "outputs": [
        {
          "name": "stderr",
          "output_type": "stream",
          "text": [
            "c:\\Users\\Zakaria Bouchegoura\\AppData\\Local\\Programs\\Python\\Python310\\lib\\site-packages\\tqdm\\auto.py:22: TqdmWarning: IProgress not found. Please update jupyter and ipywidgets. See https://ipywidgets.readthedocs.io/en/stable/user_install.html\n",
            "  from .autonotebook import tqdm as notebook_tqdm\n",
            "Importing plotly failed. Interactive plots will not work.\n"
          ]
        }
      ],
      "source": [
        "import pandas as pd\n",
        "import numpy as np\n",
        "from prophet import Prophet\n",
        "import optuna\n",
        "from prophet.diagnostics import performance_metrics\n",
        "from prophet.diagnostics import cross_validation\n",
        "from sklearn.metrics import mean_absolute_error\n",
        "from sklearn.metrics import mean_squared_error\n",
        "from sklearn.metrics import mean_absolute_percentage_error\n",
        "from sklearn.metrics import r2_score\n",
        "import matplotlib.pyplot as plt\n",
        "import joblib\n",
        "import glob"
      ]
    },
    {
      "cell_type": "markdown",
      "metadata": {},
      "source": [
        "#### Global Var :"
      ]
    },
    {
      "cell_type": "code",
      "execution_count": 2,
      "metadata": {},
      "outputs": [],
      "source": [
        "PATH = r'C:\\Users\\Zakaria Bouchegoura\\Desktop\\Nouveau dossier (5)\\archive\\stock_market_data\\nasdaq\\csv'\n",
        "n_trials = 10 # Number of trials by optuna to find the optimal parameters"
      ]
    },
    {
      "cell_type": "markdown",
      "metadata": {},
      "source": [
        "### Loading All Stock Market :"
      ]
    },
    {
      "cell_type": "markdown",
      "metadata": {},
      "source": [
        "For correct usage of prophet.lib its require to put the index of the dataset as Date.time type and use only two clomuns \n",
        "\n",
        "ds = date and y = close price"
      ]
    },
    {
      "cell_type": "code",
      "execution_count": 3,
      "metadata": {},
      "outputs": [],
      "source": [
        "# getting path's of all datasets\n",
        "datasets_files = glob.glob(PATH + \"/*.csv\")\n",
        "\n",
        "datasets = {} # dictionary to save each stock-market dataset by its Index\n",
        "\n",
        "for filename in datasets_files:\n",
        "\n",
        "    #getting the Index of the stock\n",
        "    stock_name=filename.split(\"\\\\\")[-1][:-4] \n",
        "\n",
        "    #Processing data\n",
        "    df = pd.read_csv(filename, index_col=None, header=0)\n",
        "    datetime_series = pd.to_datetime(df['Date'],dayfirst=True)\n",
        "    datetime_index = pd.DatetimeIndex(datetime_series.values)\n",
        "    df[\"Date\"]=datetime_series\n",
        "    df2=df.set_index(datetime_index)\n",
        "    df2.drop(['Low', 'Open', 'Volume', 'High', 'Adjusted Close'], axis=1, inplace=True)\n",
        "    df2.columns=['ds','y']\n",
        "    df2=df2.dropna()\n",
        "    datasets[stock_name]=df2"
      ]
    },
    {
      "cell_type": "code",
      "execution_count": 4,
      "metadata": {},
      "outputs": [],
      "source": [
        "# adding to the global environment, global variables of each stock market called by its stock index\n",
        "locals().update(datasets) "
      ]
    },
    {
      "cell_type": "markdown",
      "metadata": {},
      "source": [
        "#### chosing one Stock for the study"
      ]
    },
    {
      "cell_type": "markdown",
      "metadata": {},
      "source": [
        "The prediction and optimization process takes about 5 min per action for 10 trials.\n",
        "\n",
        "The task is time-consuming, we will conduct the study on a single stock market action and we choose Apple Stock.\n",
        "\n",
        "The idea will be the same for the rest of stocks."
      ]
    },
    {
      "cell_type": "code",
      "execution_count": 5,
      "metadata": {
        "id": "z_1IcLZzHXMU"
      },
      "outputs": [],
      "source": [
        "data=AAPL.copy()"
      ]
    },
    {
      "cell_type": "code",
      "execution_count": null,
      "metadata": {},
      "outputs": [],
      "source": [
        "data=data.sample(frac=1)"
      ]
    },
    {
      "cell_type": "markdown",
      "metadata": {},
      "source": [
        "#### Preparing Optuna "
      ]
    },
    {
      "cell_type": "markdown",
      "metadata": {},
      "source": [
        "We define a function who take the parameters that we want tune for the model Prophet, we use the mean average error to compare the different models."
      ]
    },
    {
      "cell_type": "code",
      "execution_count": 59,
      "metadata": {},
      "outputs": [],
      "source": [
        "def objective(trial):\n",
        "\n",
        "    \"\"\" \n",
        "    trials = Number of trials by optuna to find the optimal parameters\n",
        "    \n",
        "    \"\"\"\n",
        "    # params contains the parameters that we want tune for the model\n",
        "\n",
        "    params = {\n",
        "                'n_changepoints': trial.suggest_int('n_changepoints', 10, 30),\n",
        "\n",
        "                'changepoint_range':  trial.suggest_float('changepoint_range', 0.7, 0.9),\n",
        "\n",
        "                'yearly_seasonality': trial.suggest_int('yearly_seasonality', 10, 50),\n",
        "\n",
        "                'weekly_seasonality': trial.suggest_int('weekly_seasonality', 10, 50),\n",
        "\n",
        "                'daily_seasonality': trial.suggest_int('daily_seasonality', 10, 50),\n",
        "\n",
        "                'seasonality_mode': trial.suggest_categorical('seasonality_mode', ['multiplicative', 'additive']),\n",
        "                \n",
        "                }\n",
        "\n",
        "\n",
        "    \n",
        "    model = Prophet(**params) # model is Prophet class object\n",
        "    model.fit(data[:'2022-05-28'])\n",
        "    preds = model.predict(data[:'2022-05-28'])\n",
        "    \n",
        "    mae_score = mean_absolute_error(data[:'2022-05-28']['y'], preds['yhat'])\n",
        "    return mae_score"
      ]
    },
    {
      "cell_type": "markdown",
      "metadata": {},
      "source": [
        "#### Initiate optuna with 10 trials."
      ]
    },
    {
      "cell_type": "code",
      "execution_count": 60,
      "metadata": {
        "colab": {
          "base_uri": "https://localhost:8080/"
        },
        "id": "v47JKiIB_PzL",
        "outputId": "2a5800c7-d198-4771-adf1-b1c271554710"
      },
      "outputs": [
        {
          "name": "stderr",
          "output_type": "stream",
          "text": [
            "\u001b[32m[I 2022-10-19 17:00:34,784]\u001b[0m A new study created in memory with name: no-name-b2e07977-a7ef-4ea5-8ced-7e1ef014750a\u001b[0m\n",
            "17:00:36 - cmdstanpy - INFO - Chain [1] start processing\n",
            "17:01:01 - cmdstanpy - INFO - Chain [1] done processing\n",
            "\u001b[32m[I 2022-10-19 17:01:04,317]\u001b[0m Trial 0 finished with value: 8.386501702571207 and parameters: {'n_changepoints': 28, 'changepoint_range': 0.5534920510716621, 'yearly_seasonality': 10, 'weekly_seasonality': 32, 'daily_seasonality': 15, 'seasonality_mode': 'multiplicative'}. Best is trial 0 with value: 8.386501702571207.\u001b[0m\n",
            "17:01:05 - cmdstanpy - INFO - Chain [1] start processing\n",
            "17:01:34 - cmdstanpy - INFO - Chain [1] done processing\n",
            "\u001b[32m[I 2022-10-19 17:01:36,936]\u001b[0m Trial 1 finished with value: 6.433529471906401 and parameters: {'n_changepoints': 15, 'changepoint_range': 0.6925953710017331, 'yearly_seasonality': 33, 'weekly_seasonality': 41, 'daily_seasonality': 13, 'seasonality_mode': 'multiplicative'}. Best is trial 1 with value: 6.433529471906401.\u001b[0m\n",
            "17:01:38 - cmdstanpy - INFO - Chain [1] start processing\n",
            "17:02:21 - cmdstanpy - INFO - Chain [1] done processing\n",
            "\u001b[32m[I 2022-10-19 17:02:24,145]\u001b[0m Trial 2 finished with value: 7.66479645292512 and parameters: {'n_changepoints': 16, 'changepoint_range': 0.6097340955680237, 'yearly_seasonality': 42, 'weekly_seasonality': 17, 'daily_seasonality': 30, 'seasonality_mode': 'additive'}. Best is trial 1 with value: 6.433529471906401.\u001b[0m\n",
            "17:02:25 - cmdstanpy - INFO - Chain [1] start processing\n",
            "17:02:48 - cmdstanpy - INFO - Chain [1] done processing\n",
            "\u001b[32m[I 2022-10-19 17:02:51,545]\u001b[0m Trial 3 finished with value: 9.192233939758216 and parameters: {'n_changepoints': 21, 'changepoint_range': 0.5036193469651483, 'yearly_seasonality': 22, 'weekly_seasonality': 29, 'daily_seasonality': 28, 'seasonality_mode': 'multiplicative'}. Best is trial 1 with value: 6.433529471906401.\u001b[0m\n",
            "17:02:52 - cmdstanpy - INFO - Chain [1] start processing\n",
            "17:03:32 - cmdstanpy - INFO - Chain [1] done processing\n",
            "\u001b[32m[I 2022-10-19 17:03:35,516]\u001b[0m Trial 4 finished with value: 7.59198523039766 and parameters: {'n_changepoints': 27, 'changepoint_range': 0.6197551239209773, 'yearly_seasonality': 17, 'weekly_seasonality': 12, 'daily_seasonality': 48, 'seasonality_mode': 'additive'}. Best is trial 1 with value: 6.433529471906401.\u001b[0m\n",
            "17:03:37 - cmdstanpy - INFO - Chain [1] start processing\n",
            "17:03:53 - cmdstanpy - INFO - Chain [1] done processing\n",
            "\u001b[32m[I 2022-10-19 17:03:56,370]\u001b[0m Trial 5 finished with value: 4.609343822486228 and parameters: {'n_changepoints': 16, 'changepoint_range': 0.79787756005617, 'yearly_seasonality': 50, 'weekly_seasonality': 37, 'daily_seasonality': 35, 'seasonality_mode': 'multiplicative'}. Best is trial 5 with value: 4.609343822486228.\u001b[0m\n",
            "17:03:57 - cmdstanpy - INFO - Chain [1] start processing\n",
            "17:04:43 - cmdstanpy - INFO - Chain [1] done processing\n",
            "\u001b[32m[I 2022-10-19 17:04:46,588]\u001b[0m Trial 6 finished with value: 6.79762182423023 and parameters: {'n_changepoints': 20, 'changepoint_range': 0.6604218910368082, 'yearly_seasonality': 28, 'weekly_seasonality': 41, 'daily_seasonality': 34, 'seasonality_mode': 'multiplicative'}. Best is trial 5 with value: 4.609343822486228.\u001b[0m\n",
            "17:04:48 - cmdstanpy - INFO - Chain [1] start processing\n",
            "17:05:45 - cmdstanpy - INFO - Chain [1] done processing\n",
            "\u001b[32m[I 2022-10-19 17:05:48,312]\u001b[0m Trial 7 finished with value: 7.767292362907208 and parameters: {'n_changepoints': 19, 'changepoint_range': 0.6105398855804304, 'yearly_seasonality': 49, 'weekly_seasonality': 22, 'daily_seasonality': 46, 'seasonality_mode': 'additive'}. Best is trial 5 with value: 4.609343822486228.\u001b[0m\n",
            "17:05:49 - cmdstanpy - INFO - Chain [1] start processing\n",
            "17:07:03 - cmdstanpy - INFO - Chain [1] done processing\n",
            "\u001b[32m[I 2022-10-19 17:07:07,082]\u001b[0m Trial 8 finished with value: 5.462100736272856 and parameters: {'n_changepoints': 24, 'changepoint_range': 0.7542759010208215, 'yearly_seasonality': 20, 'weekly_seasonality': 39, 'daily_seasonality': 33, 'seasonality_mode': 'additive'}. Best is trial 5 with value: 4.609343822486228.\u001b[0m\n",
            "17:07:08 - cmdstanpy - INFO - Chain [1] start processing\n",
            "17:08:02 - cmdstanpy - INFO - Chain [1] done processing\n",
            "\u001b[32m[I 2022-10-19 17:08:06,058]\u001b[0m Trial 9 finished with value: 9.040291522299947 and parameters: {'n_changepoints': 25, 'changepoint_range': 0.510792411553004, 'yearly_seasonality': 32, 'weekly_seasonality': 34, 'daily_seasonality': 44, 'seasonality_mode': 'multiplicative'}. Best is trial 5 with value: 4.609343822486228.\u001b[0m\n"
          ]
        }
      ],
      "source": [
        "study = optuna.create_study(direction='minimize')\n",
        "study.optimize(objective, n_trials=n_trials)"
      ]
    },
    {
      "cell_type": "code",
      "execution_count": 61,
      "metadata": {
        "id": "qgPGJXN_LLMN"
      },
      "outputs": [],
      "source": [
        "dict_best=study.best_params # Getting the best parameter with smallest MAE"
      ]
    },
    {
      "cell_type": "code",
      "execution_count": 62,
      "metadata": {
        "colab": {
          "base_uri": "https://localhost:8080/"
        },
        "id": "LKyx57aohlH0",
        "outputId": "e3de61e5-8d75-48ff-8260-fe848649b0da"
      },
      "outputs": [
        {
          "data": {
            "text/plain": [
              "{'n_changepoints': 16,\n",
              " 'changepoint_range': 0.79787756005617,\n",
              " 'yearly_seasonality': 50,\n",
              " 'weekly_seasonality': 37,\n",
              " 'daily_seasonality': 35,\n",
              " 'seasonality_mode': 'multiplicative'}"
            ]
          },
          "execution_count": 62,
          "metadata": {},
          "output_type": "execute_result"
        }
      ],
      "source": [
        "dict_best"
      ]
    },
    {
      "cell_type": "markdown",
      "metadata": {},
      "source": [
        "#### Manual Calibration"
      ]
    },
    {
      "cell_type": "markdown",
      "metadata": {},
      "source": [
        "I modified the two parameters \"n_changepoints\" and \"changepoint_range\" manually after the optimization of Optuna, because during the calibration of the Optuna model I reduced the number of these parameters, to reduce the calculation time.\n",
        "\n",
        "The second motivation is to add \"n_changepoints\" is to better capture the stochastic behavior of the time series, without overfitting it."
      ]
    },
    {
      "cell_type": "code",
      "execution_count": 82,
      "metadata": {},
      "outputs": [],
      "source": [
        "dict_best_upgraded=dict_best.copy()"
      ]
    },
    {
      "cell_type": "code",
      "execution_count": 88,
      "metadata": {},
      "outputs": [],
      "source": [
        "# two modifications to better catch the stochastic behavior\n",
        "dict_best_upgraded[\"n_changepoints\"]=50\n",
        "dict_best_upgraded[\"changepoint_range\"]=0.9"
      ]
    },
    {
      "cell_type": "code",
      "execution_count": 89,
      "metadata": {},
      "outputs": [
        {
          "data": {
            "text/plain": [
              "{'n_changepoints': 50,\n",
              " 'changepoint_range': 0.9,\n",
              " 'yearly_seasonality': 50,\n",
              " 'weekly_seasonality': 37,\n",
              " 'daily_seasonality': 35,\n",
              " 'seasonality_mode': 'multiplicative'}"
            ]
          },
          "execution_count": 89,
          "metadata": {},
          "output_type": "execute_result"
        }
      ],
      "source": [
        "dict_best_upgraded"
      ]
    },
    {
      "cell_type": "markdown",
      "metadata": {},
      "source": [
        "#### Fitting a prophet with best parameters"
      ]
    },
    {
      "cell_type": "code",
      "execution_count": 90,
      "metadata": {
        "colab": {
          "base_uri": "https://localhost:8080/",
          "height": 635
        },
        "id": "4vcMDX4svCPj",
        "outputId": "3aa08f79-ce37-455d-eea7-58f7b085d649"
      },
      "outputs": [
        {
          "name": "stderr",
          "output_type": "stream",
          "text": [
            "18:08:43 - cmdstanpy - INFO - Chain [1] start processing\n",
            "18:10:35 - cmdstanpy - INFO - Chain [1] done processing\n"
          ]
        },
        {
          "data": {
            "image/png": "[encoded data removed]",
            "text/plain": [
              "<Figure size 720x432 with 1 Axes>"
            ]
          },
          "metadata": {},
          "output_type": "display_data"
        }
      ],
      "source": [
        "final_model = Prophet(**dict_best_upgraded)\n",
        "final_model.fit(data[:'2022-05-28'])\n",
        "forecast = final_model.predict(data)\n",
        "fig1 = final_model.plot(forecast)"
      ]
    },
    {
      "cell_type": "markdown",
      "metadata": {},
      "source": [
        "#### Plotting the prediction"
      ]
    },
    {
      "cell_type": "markdown",
      "metadata": {},
      "source": [
        "Saving the prediction values to plot compartive between real and predition"
      ]
    },
    {
      "cell_type": "code",
      "execution_count": 91,
      "metadata": {
        "id": "FsogyISbj_Uj"
      },
      "outputs": [],
      "source": [
        "prediction=forecast['yhat'][-5:].values\n",
        "prediction_low=forecast['yhat_lower'][-5:].values\n",
        "prediction_up=forecast['yhat_upper'][-5:].values\n"
      ]
    },
    {
      "cell_type": "code",
      "execution_count": 92,
      "metadata": {
        "id": "Z8R4sXx-hoAL"
      },
      "outputs": [],
      "source": [
        "real_values=data['2022-05-28':'2022-06-06']['y'].values\n",
        "index_prediction=data['2022-05-28':'2022-06-06'].index"
      ]
    },
    {
      "cell_type": "code",
      "execution_count": 93,
      "metadata": {
        "id": "SnXdMJHTrQIV"
      },
      "outputs": [],
      "source": [
        "study_resume=pd.DataFrame({'prediction':prediction,'prediction_low':prediction_low,'prediction_upper':prediction_up,'real':real_values}\n",
        "                    ,index=index_prediction)"
      ]
    },
    {
      "cell_type": "markdown",
      "metadata": {},
      "source": [
        "Comparing and ploting the forecasting and real values"
      ]
    },
    {
      "cell_type": "code",
      "execution_count": 94,
      "metadata": {
        "colab": {
          "base_uri": "https://localhost:8080/",
          "height": 206
        },
        "id": "HWO1aQ-M4KUT",
        "outputId": "b3deb0b2-f1ea-40f7-dd14-59e666ead41c"
      },
      "outputs": [
        {
          "data": {
            "text/html": [
              "<div>\n",
              "<style scoped>\n",
              "    .dataframe tbody tr th:only-of-type {\n",
              "        vertical-align: middle;\n",
              "    }\n",
              "\n",
              "    .dataframe tbody tr th {\n",
              "        vertical-align: top;\n",
              "    }\n",
              "\n",
              "    .dataframe thead th {\n",
              "        text-align: right;\n",
              "    }\n",
              "</style>\n",
              "<table border=\"1\" class=\"dataframe\">\n",
              "  <thead>\n",
              "    <tr style=\"text-align: right;\">\n",
              "      <th></th>\n",
              "      <th>prediction</th>\n",
              "      <th>real</th>\n",
              "    </tr>\n",
              "  </thead>\n",
              "  <tbody>\n",
              "    <tr>\n",
              "      <th>2022-05-31</th>\n",
              "      <td>148.761559</td>\n",
              "      <td>148.839996</td>\n",
              "    </tr>\n",
              "    <tr>\n",
              "      <th>2022-06-01</th>\n",
              "      <td>148.743671</td>\n",
              "      <td>148.710007</td>\n",
              "    </tr>\n",
              "    <tr>\n",
              "      <th>2022-06-02</th>\n",
              "      <td>148.747174</td>\n",
              "      <td>151.210007</td>\n",
              "    </tr>\n",
              "    <tr>\n",
              "      <th>2022-06-03</th>\n",
              "      <td>149.748225</td>\n",
              "      <td>145.380005</td>\n",
              "    </tr>\n",
              "    <tr>\n",
              "      <th>2022-06-06</th>\n",
              "      <td>153.459155</td>\n",
              "      <td>148.410004</td>\n",
              "    </tr>\n",
              "  </tbody>\n",
              "</table>\n",
              "</div>"
            ],
            "text/plain": [
              "            prediction        real\n",
              "2022-05-31  148.761559  148.839996\n",
              "2022-06-01  148.743671  148.710007\n",
              "2022-06-02  148.747174  151.210007\n",
              "2022-06-03  149.748225  145.380005\n",
              "2022-06-06  153.459155  148.410004"
            ]
          },
          "execution_count": 94,
          "metadata": {},
          "output_type": "execute_result"
        }
      ],
      "source": [
        "study_resume[['prediction','real']]"
      ]
    },
    {
      "cell_type": "code",
      "execution_count": 95,
      "metadata": {
        "colab": {
          "base_uri": "https://localhost:8080/",
          "height": 282
        },
        "id": "wPwiitdYtymx",
        "outputId": "c56b8bcd-433c-4dea-d296-509637d8cc22"
      },
      "outputs": [
        {
          "data": {
            "text/plain": [
              "<AxesSubplot:>"
            ]
          },
          "execution_count": 95,
          "metadata": {},
          "output_type": "execute_result"
        },
        {
          "data": {
            "image/png": "[encoded data removed]",
            "text/plain": [
              "<Figure size 432x288 with 1 Axes>"
            ]
          },
          "metadata": {
            "needs_background": "light"
          },
          "output_type": "display_data"
        }
      ],
      "source": [
        "study_resume.plot.line()"
      ]
    },
    {
      "cell_type": "markdown",
      "metadata": {},
      "source": [
        "### synthesis"
      ]
    },
    {
      "cell_type": "markdown",
      "metadata": {},
      "source": [
        "The prophet model seems to be promising with its approach to automatize many of the classic approaches, such as seasonality detection and trend-changing points.\n",
        "\n",
        "Other advantages of the model are that it is easy to operate and to combine with other automated optimizers, which allows people who have little knowledge in mathematics and coding to make their model.\n",
        "\n",
        "The drawbacks of such a model are the calculation time and not very reliable predictions on new data sets, but this problem can be solved by adding more data and more computing power."
      ]
    }
  ],
  "metadata": {
    "colab": {
      "collapsed_sections": [],
      "provenance": []
    },
    "kernelspec": {
      "display_name": "Python 3.10.5 64-bit",
      "language": "python",
      "name": "python3"
    },
    "language_info": {
      "codemirror_mode": {
        "name": "ipython",
        "version": 3
      },
      "file_extension": ".py",
      "mimetype": "text/x-python",
      "name": "python",
      "nbconvert_exporter": "python",
      "pygments_lexer": "ipython3",
      "version": "3.10.5"
    },
    "vscode": {
      "interpreter": {
        "hash": "631d3a3052b0fe348056359c327c9ae22129d574466ab9f33cfce2a396938472"
      }
    }
  },
  "nbformat": 4,
  "nbformat_minor": 0
}

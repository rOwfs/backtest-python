{
  "cells": [
    {
      "cell_type": "markdown",
      "metadata": {},
      "source": [
        "## Prophet Forcasting"
      ]
    },
    {
      "cell_type": "markdown",
      "metadata": {},
      "source": [
        "In this notebook we will use Prohphet Library that provide completely automated forecast, and to tune the parameters of the prophet model we will use Optuna to automatize the tuninng of parameters.\n",
        "\n",
        "\n",
        "\n",
        "\n",
        "\n",
        "In other terms this notebook will be about using a library which will automate the forecasting"
      ]
    },
    {
      "cell_type": "code",
      "execution_count": 21,
      "metadata": {
        "id": "l_Z5j6SYXvZN"
      },
      "outputs": [],
      "source": [
        "import pandas as pd\n",
        "import numpy as np\n",
        "from prophet import Prophet\n",
        "import optuna\n",
        "from prophet.diagnostics import performance_metrics\n",
        "from prophet.diagnostics import cross_validation\n",
        "from sklearn.metrics import mean_absolute_error\n",
        "from sklearn.metrics import mean_squared_error\n",
        "from sklearn.metrics import mean_absolute_percentage_error\n",
        "from sklearn.metrics import r2_score\n",
        "import matplotlib.pyplot as plt\n",
        "import joblib\n",
        "import glob"
      ]
    },
    {
      "cell_type": "markdown",
      "metadata": {},
      "source": [
        "#### Global Var :"
      ]
    },
    {
      "cell_type": "code",
      "execution_count": 22,
      "metadata": {},
      "outputs": [],
      "source": [
        "PATH = r'C:\\Users\\Zakaria Bouchegoura\\Desktop\\Nouveau dossier (5)\\archive\\stock_market_data\\nasdaq\\csv'\n",
        "n_trials = 10 # Number of trials by optuna to find the optimal parameters"
      ]
    },
    {
      "cell_type": "markdown",
      "metadata": {},
      "source": [
        "### Loading All Stock Market :"
      ]
    },
    {
      "cell_type": "markdown",
      "metadata": {},
      "source": [
        "For correct usage of prophet.lib its require to put the index of the dataset as Date.time type and use only two clomuns \n",
        "\n",
        "ds = date and y = close price"
      ]
    },
    {
      "cell_type": "code",
      "execution_count": 23,
      "metadata": {},
      "outputs": [],
      "source": [
        "# getting path's of all datasets\n",
        "datasets_files = glob.glob(PATH + \"/*.csv\")\n",
        "\n",
        "datasets = {} # dictionary to save each stock-market dataset by its Index\n",
        "\n",
        "for filename in datasets_files:\n",
        "    stock_name=filename.split(\"\\\\\")[-1][:-4] #getting the Index of the stock\n",
        "    df = pd.read_csv(filename, index_col=None, header=0)\n",
        "    datetime_series = pd.to_datetime(df['Date'],dayfirst=True)\n",
        "    datetime_index = pd.DatetimeIndex(datetime_series.values)\n",
        "    df[\"Date\"]=datetime_series\n",
        "    df2=df.set_index(datetime_index)\n",
        "    df2.drop(['Low', 'Open', 'Volume', 'High', 'Adjusted Close'], axis=1, inplace=True)\n",
        "    df2.columns=['ds','y']\n",
        "    df2=df2.dropna()\n",
        "    datasets[stock_name]=df2"
      ]
    },
    {
      "cell_type": "code",
      "execution_count": 24,
      "metadata": {},
      "outputs": [],
      "source": [
        "# adding to the global environment, global variables of each stock market called by its stock index\n",
        "locals().update(datasets) "
      ]
    },
    {
      "cell_type": "markdown",
      "metadata": {},
      "source": [
        "#### chosing one Stock for the study"
      ]
    },
    {
      "cell_type": "markdown",
      "metadata": {},
      "source": [
        "The prediction and optimization process takes about 5 min per action for 10 trials.\n",
        "\n",
        "The task is time-consuming, we will conduct the study on a single stock market action and we choose Apple Stock.\n",
        "\n",
        "The idea will be the same for the rest of stocks."
      ]
    },
    {
      "cell_type": "code",
      "execution_count": 25,
      "metadata": {
        "id": "z_1IcLZzHXMU"
      },
      "outputs": [],
      "source": [
        "data=AAPL.copy()"
      ]
    },
    {
      "cell_type": "code",
      "execution_count": 26,
      "metadata": {},
      "outputs": [
        {
          "data": {
            "text/html": [
              "<div>\n",
              "<style scoped>\n",
              "    .dataframe tbody tr th:only-of-type {\n",
              "        vertical-align: middle;\n",
              "    }\n",
              "\n",
              "    .dataframe tbody tr th {\n",
              "        vertical-align: top;\n",
              "    }\n",
              "\n",
              "    .dataframe thead th {\n",
              "        text-align: right;\n",
              "    }\n",
              "</style>\n",
              "<table border=\"1\" class=\"dataframe\">\n",
              "  <thead>\n",
              "    <tr style=\"text-align: right;\">\n",
              "      <th></th>\n",
              "      <th>ds</th>\n",
              "      <th>y</th>\n",
              "    </tr>\n",
              "  </thead>\n",
              "  <tbody>\n",
              "    <tr>\n",
              "      <th>1980-12-12</th>\n",
              "      <td>1980-12-12</td>\n",
              "      <td>0.128348</td>\n",
              "    </tr>\n",
              "    <tr>\n",
              "      <th>1980-12-15</th>\n",
              "      <td>1980-12-15</td>\n",
              "      <td>0.121652</td>\n",
              "    </tr>\n",
              "    <tr>\n",
              "      <th>1980-12-16</th>\n",
              "      <td>1980-12-16</td>\n",
              "      <td>0.112723</td>\n",
              "    </tr>\n",
              "    <tr>\n",
              "      <th>1980-12-17</th>\n",
              "      <td>1980-12-17</td>\n",
              "      <td>0.115513</td>\n",
              "    </tr>\n",
              "    <tr>\n",
              "      <th>1980-12-18</th>\n",
              "      <td>1980-12-18</td>\n",
              "      <td>0.118862</td>\n",
              "    </tr>\n",
              "    <tr>\n",
              "      <th>...</th>\n",
              "      <td>...</td>\n",
              "      <td>...</td>\n",
              "    </tr>\n",
              "    <tr>\n",
              "      <th>2022-05-31</th>\n",
              "      <td>2022-05-31</td>\n",
              "      <td>148.839996</td>\n",
              "    </tr>\n",
              "    <tr>\n",
              "      <th>2022-06-01</th>\n",
              "      <td>2022-06-01</td>\n",
              "      <td>148.710007</td>\n",
              "    </tr>\n",
              "    <tr>\n",
              "      <th>2022-06-02</th>\n",
              "      <td>2022-06-02</td>\n",
              "      <td>151.210007</td>\n",
              "    </tr>\n",
              "    <tr>\n",
              "      <th>2022-06-03</th>\n",
              "      <td>2022-06-03</td>\n",
              "      <td>145.380005</td>\n",
              "    </tr>\n",
              "    <tr>\n",
              "      <th>2022-06-06</th>\n",
              "      <td>2022-06-06</td>\n",
              "      <td>148.410004</td>\n",
              "    </tr>\n",
              "  </tbody>\n",
              "</table>\n",
              "<p>10459 rows × 2 columns</p>\n",
              "</div>"
            ],
            "text/plain": [
              "                   ds           y\n",
              "1980-12-12 1980-12-12    0.128348\n",
              "1980-12-15 1980-12-15    0.121652\n",
              "1980-12-16 1980-12-16    0.112723\n",
              "1980-12-17 1980-12-17    0.115513\n",
              "1980-12-18 1980-12-18    0.118862\n",
              "...               ...         ...\n",
              "2022-05-31 2022-05-31  148.839996\n",
              "2022-06-01 2022-06-01  148.710007\n",
              "2022-06-02 2022-06-02  151.210007\n",
              "2022-06-03 2022-06-03  145.380005\n",
              "2022-06-06 2022-06-06  148.410004\n",
              "\n",
              "[10459 rows x 2 columns]"
            ]
          },
          "execution_count": 26,
          "metadata": {},
          "output_type": "execute_result"
        }
      ],
      "source": [
        "data"
      ]
    },
    {
      "cell_type": "markdown",
      "metadata": {},
      "source": [
        "#### Preparing Optuna "
      ]
    },
    {
      "cell_type": "markdown",
      "metadata": {},
      "source": [
        "We define a function who take the parameters that we want tune for the model Prophet, we use the mean average error to compare the different models."
      ]
    },
    {
      "cell_type": "code",
      "execution_count": 39,
      "metadata": {},
      "outputs": [],
      "source": [
        "def objective(trial):\n",
        "\n",
        "    \"\"\" \n",
        "    trials = Number of trials by optuna to find the optimal parameters\n",
        "    \n",
        "    \"\"\"\n",
        "    # params contains the parameters that we want tune for the model\n",
        "\n",
        "    params = {\n",
        "        'changepoint_prior_scale': trial.suggest_float('changepoint_prior_scale', 0.005, 10),\n",
        "        'changepoint_range': trial.suggest_float('changepoint_range', 0.05, 0.99),\n",
        "        'seasonality_prior_scale': trial.suggest_float('seasonality_prior_scale', 0.05, 10),\n",
        "        'holidays_prior_scale': trial.suggest_float('holidays_prior_scale', 0.1, 100),\n",
        "        'seasonality_mode': trial.suggest_categorical('seasonality_mode', ['multiplicative', 'additive']),\n",
        "        'weekly_seasonality': trial.suggest_int('weekly_seasonality', 1, 200),\n",
        "        'yearly_seasonality': trial.suggest_int('yearly_seasonality', 1, 20),\n",
        "    }\n",
        "    \n",
        "    model = Prophet(**params) # model is Prophet class object\n",
        "    model.fit(data['2017-01-01':'2022-05-20'])\n",
        "    preds = model.predict(data)\n",
        "    \n",
        "    mae_score = mean_absolute_percentage_error(data['y'], preds['yhat'])\n",
        "    return mae_score"
      ]
    },
    {
      "cell_type": "markdown",
      "metadata": {},
      "source": [
        "#### Initiate optuna with 10 trials."
      ]
    },
    {
      "cell_type": "code",
      "execution_count": 40,
      "metadata": {
        "colab": {
          "base_uri": "https://localhost:8080/"
        },
        "id": "v47JKiIB_PzL",
        "outputId": "2a5800c7-d198-4771-adf1-b1c271554710"
      },
      "outputs": [
        {
          "name": "stderr",
          "output_type": "stream",
          "text": [
            "\u001b[32m[I 2022-10-17 20:04:23,618]\u001b[0m A new study created in memory with name: no-name-79c4141e-d80a-41b6-bda2-54b73961e690\u001b[0m\n",
            "20:04:24 - cmdstanpy - INFO - Chain [1] start processing\n",
            "20:04:27 - cmdstanpy - INFO - Chain [1] done processing\n",
            "\u001b[32m[I 2022-10-17 20:04:30,349]\u001b[0m Trial 0 finished with value: 6544.914563444513 and parameters: {'changepoint_prior_scale': 4.456294826423114, 'changepoint_range': 0.33581289652037233, 'seasonality_prior_scale': 8.00580156656998, 'holidays_prior_scale': 19.054728656525967, 'seasonality_mode': 'additive', 'weekly_seasonality': 49, 'yearly_seasonality': 3}. Best is trial 0 with value: 6544.914563444513.\u001b[0m\n",
            "20:04:30 - cmdstanpy - INFO - Chain [1] start processing\n",
            "20:04:31 - cmdstanpy - INFO - Chain [1] done processing\n",
            "\u001b[32m[I 2022-10-17 20:04:34,128]\u001b[0m Trial 1 finished with value: 8128.202766581334 and parameters: {'changepoint_prior_scale': 5.011844797748207, 'changepoint_range': 0.5167210679091033, 'seasonality_prior_scale': 3.5684241067700047, 'holidays_prior_scale': 22.093891733951544, 'seasonality_mode': 'additive', 'weekly_seasonality': 1, 'yearly_seasonality': 13}. Best is trial 0 with value: 6544.914563444513.\u001b[0m\n",
            "20:04:34 - cmdstanpy - INFO - Chain [1] start processing\n",
            "20:04:43 - cmdstanpy - INFO - Chain [1] done processing\n",
            "\u001b[32m[I 2022-10-17 20:04:46,575]\u001b[0m Trial 2 finished with value: 7767.051632615617 and parameters: {'changepoint_prior_scale': 6.6443466785791685, 'changepoint_range': 0.4955575112385104, 'seasonality_prior_scale': 3.45786237205362, 'holidays_prior_scale': 63.831072284675436, 'seasonality_mode': 'additive', 'weekly_seasonality': 96, 'yearly_seasonality': 18}. Best is trial 0 with value: 6544.914563444513.\u001b[0m\n",
            "20:04:47 - cmdstanpy - INFO - Chain [1] start processing\n",
            "20:04:54 - cmdstanpy - INFO - Chain [1] done processing\n",
            "\u001b[32m[I 2022-10-17 20:04:57,106]\u001b[0m Trial 3 finished with value: 7075.164340226881 and parameters: {'changepoint_prior_scale': 5.876867021923809, 'changepoint_range': 0.42007038819813647, 'seasonality_prior_scale': 0.28521768627265404, 'holidays_prior_scale': 77.2395258510788, 'seasonality_mode': 'additive', 'weekly_seasonality': 66, 'yearly_seasonality': 18}. Best is trial 0 with value: 6544.914563444513.\u001b[0m\n",
            "20:04:57 - cmdstanpy - INFO - Chain [1] start processing\n",
            "20:05:01 - cmdstanpy - INFO - Chain [1] done processing\n",
            "\u001b[32m[I 2022-10-17 20:05:04,214]\u001b[0m Trial 4 finished with value: 3798.015335050161 and parameters: {'changepoint_prior_scale': 9.109733219148383, 'changepoint_range': 0.1723604706898811, 'seasonality_prior_scale': 5.299041933204562, 'holidays_prior_scale': 26.568287217150406, 'seasonality_mode': 'additive', 'weekly_seasonality': 89, 'yearly_seasonality': 11}. Best is trial 4 with value: 3798.015335050161.\u001b[0m\n",
            "20:05:04 - cmdstanpy - INFO - Chain [1] start processing\n",
            "20:05:17 - cmdstanpy - INFO - Chain [1] done processing\n",
            "\u001b[32m[I 2022-10-17 20:05:20,856]\u001b[0m Trial 5 finished with value: 5253.274672145595 and parameters: {'changepoint_prior_scale': 4.007536910597972, 'changepoint_range': 0.26143307676736377, 'seasonality_prior_scale': 0.9844551118147289, 'holidays_prior_scale': 11.882861315269379, 'seasonality_mode': 'additive', 'weekly_seasonality': 173, 'yearly_seasonality': 5}. Best is trial 4 with value: 3798.015335050161.\u001b[0m\n",
            "20:05:21 - cmdstanpy - INFO - Chain [1] start processing\n",
            "20:05:27 - cmdstanpy - INFO - Chain [1] done processing\n",
            "\u001b[32m[I 2022-10-17 20:05:29,979]\u001b[0m Trial 6 finished with value: 7687.006731603986 and parameters: {'changepoint_prior_scale': 3.8347834564899306, 'changepoint_range': 0.46789044686106074, 'seasonality_prior_scale': 5.350882471187608, 'holidays_prior_scale': 71.16158640800185, 'seasonality_mode': 'additive', 'weekly_seasonality': 84, 'yearly_seasonality': 11}. Best is trial 4 with value: 3798.015335050161.\u001b[0m\n",
            "20:05:30 - cmdstanpy - INFO - Chain [1] start processing\n",
            "20:05:31 - cmdstanpy - INFO - Chain [1] done processing\n",
            "\u001b[32m[I 2022-10-17 20:05:33,869]\u001b[0m Trial 7 finished with value: 3979.48323891957 and parameters: {'changepoint_prior_scale': 7.502679399477292, 'changepoint_range': 0.676766481906026, 'seasonality_prior_scale': 4.327920174452293, 'holidays_prior_scale': 13.010337017884867, 'seasonality_mode': 'multiplicative', 'weekly_seasonality': 6, 'yearly_seasonality': 17}. Best is trial 4 with value: 3798.015335050161.\u001b[0m\n",
            "20:05:34 - cmdstanpy - INFO - Chain [1] start processing\n",
            "20:05:47 - cmdstanpy - INFO - Chain [1] done processing\n",
            "\u001b[32m[I 2022-10-17 20:05:50,474]\u001b[0m Trial 8 finished with value: 6356.294803213905 and parameters: {'changepoint_prior_scale': 8.076411847954198, 'changepoint_range': 0.8400299573406557, 'seasonality_prior_scale': 8.067630457012621, 'holidays_prior_scale': 10.39610910505522, 'seasonality_mode': 'additive', 'weekly_seasonality': 119, 'yearly_seasonality': 4}. Best is trial 4 with value: 3798.015335050161.\u001b[0m\n",
            "20:05:50 - cmdstanpy - INFO - Chain [1] start processing\n",
            "20:05:53 - cmdstanpy - INFO - Chain [1] done processing\n",
            "\u001b[32m[I 2022-10-17 20:05:56,380]\u001b[0m Trial 9 finished with value: 3679.068520820462 and parameters: {'changepoint_prior_scale': 5.516913042308222, 'changepoint_range': 0.36731468569642506, 'seasonality_prior_scale': 4.838446346435458, 'holidays_prior_scale': 10.680080669158338, 'seasonality_mode': 'multiplicative', 'weekly_seasonality': 38, 'yearly_seasonality': 15}. Best is trial 9 with value: 3679.068520820462.\u001b[0m\n"
          ]
        }
      ],
      "source": [
        "study = optuna.create_study(direction='minimize')\n",
        "study.optimize(objective, n_trials=n_trials)"
      ]
    },
    {
      "cell_type": "code",
      "execution_count": 41,
      "metadata": {
        "id": "qgPGJXN_LLMN"
      },
      "outputs": [],
      "source": [
        "dict_best=study.best_params # Getting the best parameter with smallest MAE"
      ]
    },
    {
      "cell_type": "code",
      "execution_count": 42,
      "metadata": {
        "colab": {
          "base_uri": "https://localhost:8080/"
        },
        "id": "LKyx57aohlH0",
        "outputId": "e3de61e5-8d75-48ff-8260-fe848649b0da"
      },
      "outputs": [
        {
          "data": {
            "text/plain": [
              "{'changepoint_prior_scale': 5.516913042308222,\n",
              " 'changepoint_range': 0.36731468569642506,\n",
              " 'seasonality_prior_scale': 4.838446346435458,\n",
              " 'holidays_prior_scale': 10.680080669158338,\n",
              " 'seasonality_mode': 'multiplicative',\n",
              " 'weekly_seasonality': 38,\n",
              " 'yearly_seasonality': 15}"
            ]
          },
          "execution_count": 42,
          "metadata": {},
          "output_type": "execute_result"
        }
      ],
      "source": [
        "dict_best"
      ]
    },
    {
      "cell_type": "markdown",
      "metadata": {},
      "source": [
        "#### Fitting a prophet with best parameters"
      ]
    },
    {
      "cell_type": "code",
      "execution_count": 49,
      "metadata": {
        "colab": {
          "base_uri": "https://localhost:8080/",
          "height": 635
        },
        "id": "4vcMDX4svCPj",
        "outputId": "3aa08f79-ce37-455d-eea7-58f7b085d649"
      },
      "outputs": [
        {
          "name": "stderr",
          "output_type": "stream",
          "text": [
            "20:06:42 - cmdstanpy - INFO - Chain [1] start processing\n",
            "20:07:43 - cmdstanpy - INFO - Chain [1] done processing\n"
          ]
        },
        {
          "data": {
            "image/png": "[encoded data removed]",
            "text/plain": [
              "<Figure size 720x432 with 1 Axes>"
            ]
          },
          "metadata": {},
          "output_type": "display_data"
        }
      ],
      "source": [
        "final_model = Prophet(**dict_best)\n",
        "final_model.fit(data)\n",
        "forecast = final_model.predict(data)\n",
        "fig1 = final_model.plot(forecast)"
      ]
    },
    {
      "cell_type": "markdown",
      "metadata": {},
      "source": [
        "#### Saving the prediction values to plot"
      ]
    },
    {
      "cell_type": "code",
      "execution_count": 62,
      "metadata": {
        "id": "FsogyISbj_Uj"
      },
      "outputs": [],
      "source": [
        "prediction=forecast['yhat'][-5:].values\n",
        "prediction_low=forecast['yhat_lower'][-5:].values\n",
        "prediction_up=forecast['yhat_upper'][-5:].values\n"
      ]
    },
    {
      "cell_type": "code",
      "execution_count": 63,
      "metadata": {
        "id": "Z8R4sXx-hoAL"
      },
      "outputs": [],
      "source": [
        "real_values=data['2022-05-28':'2022-06-06']['y'].values\n",
        "index_prediction=data['2022-05-28':'2022-06-06'].index"
      ]
    },
    {
      "cell_type": "code",
      "execution_count": 65,
      "metadata": {
        "id": "SnXdMJHTrQIV"
      },
      "outputs": [],
      "source": [
        "study=pd.DataFrame({'prediction':prediction,'prediction_low':prediction_low,'prediction_upper':prediction_up,'real':real_values}\n",
        "                    ,index=index_prediction)"
      ]
    },
    {
      "cell_type": "markdown",
      "metadata": {},
      "source": [
        "Comparing and ploting the forecasting and real values"
      ]
    },
    {
      "cell_type": "code",
      "execution_count": 66,
      "metadata": {
        "colab": {
          "base_uri": "https://localhost:8080/",
          "height": 206
        },
        "id": "HWO1aQ-M4KUT",
        "outputId": "b3deb0b2-f1ea-40f7-dd14-59e666ead41c"
      },
      "outputs": [
        {
          "data": {
            "text/html": [
              "<div>\n",
              "<style scoped>\n",
              "    .dataframe tbody tr th:only-of-type {\n",
              "        vertical-align: middle;\n",
              "    }\n",
              "\n",
              "    .dataframe tbody tr th {\n",
              "        vertical-align: top;\n",
              "    }\n",
              "\n",
              "    .dataframe thead th {\n",
              "        text-align: right;\n",
              "    }\n",
              "</style>\n",
              "<table border=\"1\" class=\"dataframe\">\n",
              "  <thead>\n",
              "    <tr style=\"text-align: right;\">\n",
              "      <th></th>\n",
              "      <th>prediction</th>\n",
              "      <th>real</th>\n",
              "    </tr>\n",
              "  </thead>\n",
              "  <tbody>\n",
              "    <tr>\n",
              "      <th>2022-05-31</th>\n",
              "      <td>71.148958</td>\n",
              "      <td>148.839996</td>\n",
              "    </tr>\n",
              "    <tr>\n",
              "      <th>2022-06-01</th>\n",
              "      <td>70.438857</td>\n",
              "      <td>148.710007</td>\n",
              "    </tr>\n",
              "    <tr>\n",
              "      <th>2022-06-02</th>\n",
              "      <td>69.586281</td>\n",
              "      <td>151.210007</td>\n",
              "    </tr>\n",
              "    <tr>\n",
              "      <th>2022-06-03</th>\n",
              "      <td>68.084745</td>\n",
              "      <td>145.380005</td>\n",
              "    </tr>\n",
              "    <tr>\n",
              "      <th>2022-06-06</th>\n",
              "      <td>66.162377</td>\n",
              "      <td>148.410004</td>\n",
              "    </tr>\n",
              "  </tbody>\n",
              "</table>\n",
              "</div>"
            ],
            "text/plain": [
              "            prediction        real\n",
              "2022-05-31   71.148958  148.839996\n",
              "2022-06-01   70.438857  148.710007\n",
              "2022-06-02   69.586281  151.210007\n",
              "2022-06-03   68.084745  145.380005\n",
              "2022-06-06   66.162377  148.410004"
            ]
          },
          "execution_count": 66,
          "metadata": {},
          "output_type": "execute_result"
        }
      ],
      "source": [
        "study[['prediction','real']]"
      ]
    },
    {
      "cell_type": "code",
      "execution_count": 67,
      "metadata": {
        "colab": {
          "base_uri": "https://localhost:8080/",
          "height": 282
        },
        "id": "wPwiitdYtymx",
        "outputId": "c56b8bcd-433c-4dea-d296-509637d8cc22"
      },
      "outputs": [
        {
          "data": {
            "text/plain": [
              "<AxesSubplot:>"
            ]
          },
          "execution_count": 67,
          "metadata": {},
          "output_type": "execute_result"
        },
        {
          "data": {
            "image/png": "[encoded data removed]",
            "text/plain": [
              "<Figure size 432x288 with 1 Axes>"
            ]
          },
          "metadata": {
            "needs_background": "light"
          },
          "output_type": "display_data"
        }
      ],
      "source": [
        "study.plot.line()"
      ]
    },
    {
      "cell_type": "markdown",
      "metadata": {},
      "source": [
        "I Conclude that prophet is not very efficient at this lim"
      ]
    }
  ],
  "metadata": {
    "colab": {
      "collapsed_sections": [],
      "provenance": []
    },
    "kernelspec": {
      "display_name": "Python 3.10.5 64-bit",
      "language": "python",
      "name": "python3"
    },
    "language_info": {
      "codemirror_mode": {
        "name": "ipython",
        "version": 3
      },
      "file_extension": ".py",
      "mimetype": "text/x-python",
      "name": "python",
      "nbconvert_exporter": "python",
      "pygments_lexer": "ipython3",
      "version": "3.10.5"
    },
    "vscode": {
      "interpreter": {
        "hash": "631d3a3052b0fe348056359c327c9ae22129d574466ab9f33cfce2a396938472"
      }
    }
  },
  "nbformat": 4,
  "nbformat_minor": 0
}
